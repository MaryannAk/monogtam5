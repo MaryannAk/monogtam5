{
  "cells": [
    {
      "cell_type": "markdown",
      "metadata": {
        "id": "view-in-github",
        "colab_type": "text"
      },
      "source": [
        "<a href=\"https://colab.research.google.com/github/MaryannAk/monogtam5/blob/dataroadmap/week1_notebook1_monogram2.ipynb\" target=\"_parent\"><img src=\"https://colab.research.google.com/assets/colab-badge.svg\" alt=\"Open In Colab\"/></a>"
      ]
    },
    {
      "cell_type": "markdown",
      "metadata": {
        "id": "brIPNVBYtKNK"
      },
      "source": [
        "\n",
        "# dataroadmap, monogram_2, Week_1\n",
        "# تمرین هفته اول -آشنایی با پایتون \n",
        "\n",
        "\n",
        "* Data types\n",
        "    * Numbers\n",
        "    * Strings\n",
        "    * Printing\n",
        "    * Lists"
      ]
    },
    {
      "cell_type": "markdown",
      "metadata": {
        "id": "CSFF8EVhtKNU"
      },
      "source": [
        "## Data types\n",
        "\n",
        "### Numbers\n",
        "\n",
        "### دستورات زیر را با فشردن همزمان کلید شیفت اینتر اجرا کنید"
      ]
    },
    {
      "cell_type": "code",
      "execution_count": null,
      "metadata": {
        "id": "FvHv9mlttKNW"
      },
      "outputs": [],
      "source": [
        "a=3"
      ]
    },
    {
      "cell_type": "code",
      "execution_count": null,
      "metadata": {
        "id": "Jg5obU5AtKNZ",
        "outputId": "c0717b3f-f0ca-4921-9b7d-172574c01450",
        "colab": {
          "base_uri": "https://localhost:8080/"
        }
      },
      "outputs": [
        {
          "output_type": "stream",
          "name": "stdout",
          "text": [
            "3\n"
          ]
        }
      ],
      "source": [
        "print(a)"
      ]
    },
    {
      "cell_type": "code",
      "execution_count": null,
      "metadata": {
        "id": "6Obzd26AtKNa",
        "outputId": "7a5dfa17-5670-409b-fc4f-c61630edc7e1",
        "colab": {
          "base_uri": "https://localhost:8080/"
        }
      },
      "outputs": [
        {
          "output_type": "execute_result",
          "data": {
            "text/plain": [
              "2"
            ]
          },
          "metadata": {},
          "execution_count": 2
        }
      ],
      "source": [
        "1 + 1"
      ]
    },
    {
      "cell_type": "code",
      "execution_count": null,
      "metadata": {
        "id": "Uietm4yrtKNb",
        "colab": {
          "base_uri": "https://localhost:8080/"
        },
        "outputId": "226490ab-a1b6-4cae-e806-6a8c1c1e7cae"
      },
      "outputs": [
        {
          "output_type": "execute_result",
          "data": {
            "text/plain": [
              "3"
            ]
          },
          "metadata": {},
          "execution_count": 5
        }
      ],
      "source": [
        "1 * 3"
      ]
    },
    {
      "cell_type": "code",
      "execution_count": null,
      "metadata": {
        "id": "wxoDaml7tKNc",
        "colab": {
          "base_uri": "https://localhost:8080/"
        },
        "outputId": "85219a43-0c7a-4248-9ad2-2a978014980c"
      },
      "outputs": [
        {
          "output_type": "execute_result",
          "data": {
            "text/plain": [
              "0.5"
            ]
          },
          "metadata": {},
          "execution_count": 6
        }
      ],
      "source": [
        "1 / 2"
      ]
    },
    {
      "cell_type": "code",
      "execution_count": null,
      "metadata": {
        "id": "BEF7hNRhtKNd",
        "colab": {
          "base_uri": "https://localhost:8080/"
        },
        "outputId": "ead8338c-f289-4990-e1ba-d428bdc63eb0"
      },
      "outputs": [
        {
          "output_type": "execute_result",
          "data": {
            "text/plain": [
              "16"
            ]
          },
          "metadata": {},
          "execution_count": 7
        }
      ],
      "source": [
        "2 ** 4"
      ]
    },
    {
      "cell_type": "code",
      "execution_count": null,
      "metadata": {
        "id": "zPedOykPtKNe"
      },
      "outputs": [],
      "source": [
        "a=30"
      ]
    },
    {
      "cell_type": "code",
      "execution_count": null,
      "metadata": {
        "id": "V83Yogi_tKNf"
      },
      "outputs": [],
      "source": [
        "a"
      ]
    },
    {
      "cell_type": "code",
      "execution_count": null,
      "metadata": {
        "id": "0nqzB3dttKNg",
        "colab": {
          "base_uri": "https://localhost:8080/"
        },
        "outputId": "9368113a-7349-40d6-9163-3dd03a91db0a"
      },
      "outputs": [
        {
          "output_type": "execute_result",
          "data": {
            "text/plain": [
              "0"
            ]
          },
          "metadata": {},
          "execution_count": 9
        }
      ],
      "source": [
        "4 % 2"
      ]
    },
    {
      "cell_type": "code",
      "execution_count": null,
      "metadata": {
        "id": "17a5aAM7tKNh",
        "colab": {
          "base_uri": "https://localhost:8080/"
        },
        "outputId": "4c8bf1c3-1237-4de6-c6a3-d09aab049b7b"
      },
      "outputs": [
        {
          "output_type": "execute_result",
          "data": {
            "text/plain": [
              "1"
            ]
          },
          "metadata": {},
          "execution_count": 10
        }
      ],
      "source": [
        "5 % 2"
      ]
    },
    {
      "cell_type": "markdown",
      "metadata": {
        "id": "Pq3hcJf8tKNi"
      },
      "source": [
        "#  :سوال \n",
        "# 5%2 = 1???"
      ]
    },
    {
      "cell_type": "markdown",
      "metadata": {
        "id": "TiYq-zjHtKNj"
      },
      "source": [
        "% برای انجام عملیات محاسبهٔ باقیمانده از یک عبارت تقسیم (Modulo) استفاده می‌شود به این صورت که مقدار عملوند سمت چپ را بر مقدار عملوند سمت راست خود تقسیم می‌کند و باقیماندهٔ تقسیم را ریترن می‌کند.\n"
      ]
    },
    {
      "cell_type": "markdown",
      "metadata": {
        "id": "NbDek_40tKNk"
      },
      "source": [
        "# ***"
      ]
    },
    {
      "cell_type": "code",
      "execution_count": null,
      "metadata": {
        "id": "WnFXDuSktKNk",
        "colab": {
          "base_uri": "https://localhost:8080/"
        },
        "outputId": "ab3a10b6-9aee-4a0f-c8f6-94dea20afbd2"
      },
      "outputs": [
        {
          "output_type": "execute_result",
          "data": {
            "text/plain": [
              "50"
            ]
          },
          "metadata": {},
          "execution_count": 11
        }
      ],
      "source": [
        "(2 + 3) * (5 + 5)"
      ]
    },
    {
      "cell_type": "markdown",
      "metadata": {
        "id": "OGnyEDEOtKNl"
      },
      "source": [
        "### Variable Assignment"
      ]
    },
    {
      "cell_type": "markdown",
      "metadata": {
        "id": "goTf203dtKNl"
      },
      "source": [
        "Python Variable Names:\n",
        "A variable name must start with a letter or the underscore character.\n",
        "A variable name cannot start with a number.\n",
        "A variable name can only contain alpha-numeric characters and underscores (A-z, 0-9, and _ )\n",
        "Variable names are case-sensitive (age, Age and AGE are three different variables)"
      ]
    },
    {
      "cell_type": "code",
      "execution_count": null,
      "metadata": {
        "id": "Pyun2u6YtKNm"
      },
      "outputs": [],
      "source": [
        "# Can not start with number or special characters\n",
        "name_of_var = 2"
      ]
    },
    {
      "cell_type": "code",
      "execution_count": null,
      "metadata": {
        "id": "-QiUGpk9tKNm"
      },
      "outputs": [],
      "source": [
        "x = 2\n",
        "y = 3"
      ]
    },
    {
      "cell_type": "code",
      "execution_count": null,
      "metadata": {
        "id": "AHDHjAYZtKNn"
      },
      "outputs": [],
      "source": [
        "z = x + y"
      ]
    },
    {
      "cell_type": "code",
      "execution_count": null,
      "metadata": {
        "id": "4GGbMeeptKNo"
      },
      "outputs": [],
      "source": [
        "z"
      ]
    },
    {
      "cell_type": "markdown",
      "metadata": {
        "id": "VV9mT5uKtKNo"
      },
      "source": [
        "### Strings\n",
        "رشته‌ها در پایتون را می‌توان با قرار دادن کاراکترها در\n",
        " میان جفت نقل قول تک انگلیسی (”) یا جفت نقل قول\n",
        " جفت انگلیسی (“”) ساخت "
      ]
    },
    {
      "cell_type": "code",
      "execution_count": null,
      "metadata": {
        "id": "Q8s_ChfZtKNp"
      },
      "outputs": [],
      "source": [
        "'single quotes'"
      ]
    },
    {
      "cell_type": "code",
      "execution_count": null,
      "metadata": {
        "id": "XkZadCibtKNp"
      },
      "outputs": [],
      "source": [
        "\"double quotes\""
      ]
    },
    {
      "cell_type": "code",
      "execution_count": null,
      "metadata": {
        "id": "rZmjZqX_tKNq"
      },
      "outputs": [],
      "source": [
        "\" wrap lot's of other quotes\""
      ]
    },
    {
      "cell_type": "markdown",
      "metadata": {
        "id": "-HXv0LCOtKNq"
      },
      "source": [
        "# تمرین:\n",
        "یک رشته با شش کاراکتر ساخته و به یک متغییر دلخواه نسبت دهید؟ "
      ]
    },
    {
      "cell_type": "code",
      "execution_count": null,
      "metadata": {
        "id": "wwO6FJdLtKNr"
      },
      "outputs": [],
      "source": [
        "d=\"newmar\"\n"
      ]
    },
    {
      "cell_type": "markdown",
      "metadata": {
        "id": "BgN7bESZtKNr"
      },
      "source": [
        "# مثال:"
      ]
    },
    {
      "cell_type": "code",
      "execution_count": null,
      "metadata": {
        "id": "PJsQdQjxtKNr",
        "colab": {
          "base_uri": "https://localhost:8080/",
          "height": 36
        },
        "outputId": "407c55a4-1730-4373-c027-376d300ff109"
      },
      "outputs": [
        {
          "output_type": "execute_result",
          "data": {
            "text/plain": [
              "'a'"
            ],
            "application/vnd.google.colaboratory.intrinsic+json": {
              "type": "string"
            }
          },
          "metadata": {},
          "execution_count": 13
        }
      ],
      "source": [
        "a=\"dataro\"\n",
        "a[3]"
      ]
    },
    {
      "cell_type": "code",
      "execution_count": null,
      "metadata": {
        "id": "PFEXZsRPtKNs",
        "colab": {
          "base_uri": "https://localhost:8080/",
          "height": 36
        },
        "outputId": "aa123339-56a9-403a-83c0-2bf163a10970"
      },
      "outputs": [
        {
          "output_type": "execute_result",
          "data": {
            "text/plain": [
              "'a'"
            ],
            "application/vnd.google.colaboratory.intrinsic+json": {
              "type": "string"
            }
          },
          "metadata": {},
          "execution_count": 15
        }
      ],
      "source": [
        "a[-5]"
      ]
    },
    {
      "cell_type": "code",
      "execution_count": null,
      "metadata": {
        "id": "GvKvTeKgtKNs",
        "colab": {
          "base_uri": "https://localhost:8080/",
          "height": 36
        },
        "outputId": "b4ddf615-1398-45d3-c70a-a6ccd699d71b"
      },
      "outputs": [
        {
          "output_type": "execute_result",
          "data": {
            "text/plain": [
              "'data'"
            ],
            "application/vnd.google.colaboratory.intrinsic+json": {
              "type": "string"
            }
          },
          "metadata": {},
          "execution_count": 16
        }
      ],
      "source": [
        "a[:4]"
      ]
    },
    {
      "cell_type": "code",
      "execution_count": null,
      "metadata": {
        "id": "dW9MehpZtKNs"
      },
      "outputs": [],
      "source": [
        "date=\"1400-0105\""
      ]
    },
    {
      "cell_type": "code",
      "execution_count": null,
      "metadata": {
        "id": "T4pfHUjCtKNt",
        "colab": {
          "base_uri": "https://localhost:8080/",
          "height": 36
        },
        "outputId": "b46bec42-3d04-44ee-cce4-6b4851464858"
      },
      "outputs": [
        {
          "output_type": "execute_result",
          "data": {
            "text/plain": [
              "'05'"
            ],
            "application/vnd.google.colaboratory.intrinsic+json": {
              "type": "string"
            }
          },
          "metadata": {},
          "execution_count": 19
        }
      ],
      "source": [
        "date[-2:]"
      ]
    },
    {
      "cell_type": "code",
      "execution_count": null,
      "metadata": {
        "id": "rr42QK9jtKNu",
        "colab": {
          "base_uri": "https://localhost:8080/",
          "height": 36
        },
        "outputId": "fe103324-e660-435f-9f7e-577177ffbd90"
      },
      "outputs": [
        {
          "output_type": "execute_result",
          "data": {
            "text/plain": [
              "'105'"
            ],
            "application/vnd.google.colaboratory.intrinsic+json": {
              "type": "string"
            }
          },
          "metadata": {},
          "execution_count": 18
        }
      ],
      "source": [
        "date[6:]"
      ]
    },
    {
      "cell_type": "code",
      "execution_count": null,
      "metadata": {
        "id": "evno3VHatKNu",
        "colab": {
          "base_uri": "https://localhost:8080/",
          "height": 36
        },
        "outputId": "4295b3e8-2118-4951-c7fd-3a350e766b76"
      },
      "outputs": [
        {
          "output_type": "execute_result",
          "data": {
            "text/plain": [
              "'taro'"
            ],
            "application/vnd.google.colaboratory.intrinsic+json": {
              "type": "string"
            }
          },
          "metadata": {},
          "execution_count": 20
        }
      ],
      "source": [
        "a[2:]"
      ]
    },
    {
      "cell_type": "code",
      "execution_count": null,
      "metadata": {
        "id": "PW09Pm_XtKNv",
        "colab": {
          "base_uri": "https://localhost:8080/",
          "height": 36
        },
        "outputId": "5a2aa5ea-71ba-4455-d557-8f30ed022748"
      },
      "outputs": [
        {
          "output_type": "execute_result",
          "data": {
            "text/plain": [
              "'data'"
            ],
            "application/vnd.google.colaboratory.intrinsic+json": {
              "type": "string"
            }
          },
          "metadata": {},
          "execution_count": 21
        }
      ],
      "source": [
        "a[:-2]"
      ]
    },
    {
      "cell_type": "markdown",
      "metadata": {
        "id": "99HLz3-5tKNv"
      },
      "source": [
        "شما هم با متغییری که ساخته اید مثل بالا عمل کنید و اعداد مختلفی امتحان کنید و خروجی بگیرید \n",
        "چه نتیجه ای میگیرید؟\n",
        "\n",
        "\n",
        "d=newmar\n",
        "\n",
        "*   d[3]    out-> m\n",
        "*   d[-3]   out-> m\n",
        "*   d[:3]   out-> new\n",
        "*   d[:-3]  out-> new\n",
        "*   d[:-1]  out-> newma\n",
        "*   d[:-5]  out-> n\n",
        "*   d[:-5]  out-> n\n",
        "*   d[5:]   out-> r\n",
        "*   d[3:]   out-> mar\n",
        "*   d[:2]   out-> ne\n",
        "---------------\n",
        "\n",
        "mar=\"9101-1514\"\n",
        "*   mar[-4:]  out-> 1514\n",
        "*   mar[:-4]  out-> 9101-\n",
        "\n",
        "\n"
      ]
    },
    {
      "cell_type": "markdown",
      "metadata": {
        "id": "gGf_lN0ztKNw"
      },
      "source": [
        "# ***"
      ]
    },
    {
      "cell_type": "markdown",
      "metadata": {
        "id": "ulBFM6swtKOS"
      },
      "source": [
        "### Printing"
      ]
    },
    {
      "cell_type": "code",
      "execution_count": null,
      "metadata": {
        "id": "d-jsaamqtKOT"
      },
      "outputs": [],
      "source": [
        "x = 'hello'"
      ]
    },
    {
      "cell_type": "code",
      "execution_count": null,
      "metadata": {
        "id": "fd66G0fmtKOU",
        "colab": {
          "base_uri": "https://localhost:8080/",
          "height": 36
        },
        "outputId": "c276ae15-c4dc-47f3-c7e0-a278dfc64679"
      },
      "outputs": [
        {
          "output_type": "execute_result",
          "data": {
            "text/plain": [
              "'hello'"
            ],
            "application/vnd.google.colaboratory.intrinsic+json": {
              "type": "string"
            }
          },
          "metadata": {},
          "execution_count": 23
        }
      ],
      "source": [
        "x"
      ]
    },
    {
      "cell_type": "code",
      "execution_count": null,
      "metadata": {
        "id": "VhstRbfctKOU",
        "colab": {
          "base_uri": "https://localhost:8080/"
        },
        "outputId": "1820e2e0-0e70-4230-dd74-8f14094ae9cc"
      },
      "outputs": [
        {
          "output_type": "stream",
          "name": "stdout",
          "text": [
            "hello\n"
          ]
        }
      ],
      "source": [
        "print(x)"
      ]
    },
    {
      "cell_type": "code",
      "execution_count": null,
      "metadata": {
        "id": "qHev8Qc0tKOV"
      },
      "outputs": [],
      "source": [
        "num = 10\n",
        "name = 'dataroadmap'\n",
        "new = 'monogram'"
      ]
    },
    {
      "cell_type": "code",
      "execution_count": null,
      "metadata": {
        "id": "VRZ38n4itKOV",
        "colab": {
          "base_uri": "https://localhost:8080/"
        },
        "outputId": "8edca617-4620-4724-85bc-da95dbf1b0d0"
      },
      "outputs": [
        {
          "output_type": "stream",
          "name": "stdout",
          "text": [
            "My number is this is monogram 1: 10, and my name is: dataroadmap , and my name is: monogram\n"
          ]
        }
      ],
      "source": [
        "print('My number is this is monogram 1: {}, and my name is: {} , and my name is: {}'.format(num,name,new))"
      ]
    },
    {
      "cell_type": "markdown",
      "metadata": {
        "id": "DZyheelFtKOW"
      },
      "source": [
        "### Lists"
      ]
    },
    {
      "cell_type": "markdown",
      "metadata": {
        "id": "l-p4bqgCtKOW"
      },
      "source": [
        "# کدهای زیر را اجرا کرده و در مورد نتایج بدست آمده فکر کنید"
      ]
    },
    {
      "cell_type": "code",
      "execution_count": null,
      "metadata": {
        "id": "d-2ig0ZOtKOX"
      },
      "outputs": [],
      "source": [
        "lst=[1,2,3]"
      ]
    },
    {
      "cell_type": "code",
      "execution_count": null,
      "metadata": {
        "id": "TjsMkfSDtKOX",
        "colab": {
          "base_uri": "https://localhost:8080/"
        },
        "outputId": "00862cb2-fdcd-4405-f50b-8c83646c42cb"
      },
      "outputs": [
        {
          "output_type": "execute_result",
          "data": {
            "text/plain": [
              "1"
            ]
          },
          "metadata": {},
          "execution_count": 31
        }
      ],
      "source": [
        "lst[0]"
      ]
    },
    {
      "cell_type": "code",
      "execution_count": null,
      "metadata": {
        "id": "4RAHtne6tKOY",
        "colab": {
          "base_uri": "https://localhost:8080/"
        },
        "outputId": "2634efba-b40b-43fa-a7c8-979ef1e1f978"
      },
      "outputs": [
        {
          "output_type": "execute_result",
          "data": {
            "text/plain": [
              "3"
            ]
          },
          "metadata": {},
          "execution_count": 32
        }
      ],
      "source": [
        "len(lst)"
      ]
    },
    {
      "cell_type": "code",
      "execution_count": null,
      "metadata": {
        "id": "qQoViMdUtKOY"
      },
      "outputs": [],
      "source": [
        "lst.append(20)"
      ]
    },
    {
      "cell_type": "code",
      "execution_count": null,
      "metadata": {
        "id": "q1H_MPi-tKOZ",
        "colab": {
          "base_uri": "https://localhost:8080/"
        },
        "outputId": "55d9e481-23f0-46f0-f75b-fce234bc2d87"
      },
      "outputs": [
        {
          "output_type": "execute_result",
          "data": {
            "text/plain": [
              "[1, 2, 3, 20, 20]"
            ]
          },
          "metadata": {},
          "execution_count": 35
        }
      ],
      "source": [
        "lst"
      ]
    },
    {
      "cell_type": "code",
      "execution_count": null,
      "metadata": {
        "id": "xJcgUd6jtKOa",
        "colab": {
          "base_uri": "https://localhost:8080/"
        },
        "outputId": "3abb82aa-fc90-433a-a846-3abcbedec62e"
      },
      "outputs": [
        {
          "output_type": "execute_result",
          "data": {
            "text/plain": [
              "6"
            ]
          },
          "metadata": {},
          "execution_count": 37
        }
      ],
      "source": [
        "len(lst)"
      ]
    },
    {
      "cell_type": "code",
      "execution_count": null,
      "metadata": {
        "id": "COSzVCcXtKOa",
        "colab": {
          "base_uri": "https://localhost:8080/"
        },
        "outputId": "2b7e368a-7142-48d0-9b37-612c2961ae1d"
      },
      "outputs": [
        {
          "output_type": "execute_result",
          "data": {
            "text/plain": [
              "['hi', 1, [1, 2]]"
            ]
          },
          "metadata": {},
          "execution_count": 38
        }
      ],
      "source": [
        "['hi',1,[1,2]]"
      ]
    },
    {
      "cell_type": "code",
      "execution_count": null,
      "metadata": {
        "id": "S3dEjulMtKOb"
      },
      "outputs": [],
      "source": [
        "my_list = ['a','b','c']"
      ]
    },
    {
      "cell_type": "code",
      "execution_count": null,
      "metadata": {
        "id": "xeWyaPDJtKOb"
      },
      "outputs": [],
      "source": [
        "my_list.append('d')"
      ]
    },
    {
      "cell_type": "code",
      "execution_count": null,
      "metadata": {
        "id": "d7N6gKDktKOc",
        "colab": {
          "base_uri": "https://localhost:8080/"
        },
        "outputId": "951bc190-008d-4498-ab46-e797768f0a75"
      },
      "outputs": [
        {
          "output_type": "execute_result",
          "data": {
            "text/plain": [
              "['a', 'b', 'c', 'd']"
            ]
          },
          "metadata": {},
          "execution_count": 41
        }
      ],
      "source": [
        "my_list"
      ]
    },
    {
      "cell_type": "code",
      "execution_count": null,
      "metadata": {
        "id": "gPDBVIHPtKOc",
        "colab": {
          "base_uri": "https://localhost:8080/",
          "height": 36
        },
        "outputId": "6198d586-85ef-4e41-bf56-0c3543078365"
      },
      "outputs": [
        {
          "output_type": "execute_result",
          "data": {
            "text/plain": [
              "'d'"
            ],
            "application/vnd.google.colaboratory.intrinsic+json": {
              "type": "string"
            }
          },
          "metadata": {},
          "execution_count": 42
        }
      ],
      "source": [
        "my_list[-1]"
      ]
    },
    {
      "cell_type": "code",
      "execution_count": null,
      "metadata": {
        "id": "8dHJFUgDtKOd",
        "colab": {
          "base_uri": "https://localhost:8080/",
          "height": 36
        },
        "outputId": "ca953c35-08e9-48b7-e274-4a12d1187f3f"
      },
      "outputs": [
        {
          "output_type": "execute_result",
          "data": {
            "text/plain": [
              "'b'"
            ],
            "application/vnd.google.colaboratory.intrinsic+json": {
              "type": "string"
            }
          },
          "metadata": {},
          "execution_count": 43
        }
      ],
      "source": [
        "my_list[1]"
      ]
    },
    {
      "cell_type": "code",
      "execution_count": null,
      "metadata": {
        "id": "CDS0wqVwtKOd",
        "colab": {
          "base_uri": "https://localhost:8080/"
        },
        "outputId": "bc2378a2-3da7-41b9-a347-647846e603d5"
      },
      "outputs": [
        {
          "output_type": "execute_result",
          "data": {
            "text/plain": [
              "['b', 'c', 'd']"
            ]
          },
          "metadata": {},
          "execution_count": 44
        }
      ],
      "source": [
        "my_list[1:]"
      ]
    },
    {
      "cell_type": "code",
      "execution_count": null,
      "metadata": {
        "id": "_rfnXM4htKOe",
        "colab": {
          "base_uri": "https://localhost:8080/"
        },
        "outputId": "d5cc4ffd-646d-4459-953b-a22c7381f06f"
      },
      "outputs": [
        {
          "output_type": "execute_result",
          "data": {
            "text/plain": [
              "['a']"
            ]
          },
          "metadata": {},
          "execution_count": 45
        }
      ],
      "source": [
        "my_list[:1]"
      ]
    },
    {
      "cell_type": "code",
      "execution_count": null,
      "metadata": {
        "id": "3rETycwntKOe"
      },
      "outputs": [],
      "source": [
        "my_list[2] = 'NEW'"
      ]
    },
    {
      "cell_type": "code",
      "execution_count": null,
      "metadata": {
        "id": "7Ff-8KxPtKOf",
        "colab": {
          "base_uri": "https://localhost:8080/"
        },
        "outputId": "22f7baae-2dea-4d12-ed21-366cc96153f3"
      },
      "outputs": [
        {
          "output_type": "execute_result",
          "data": {
            "text/plain": [
              "['a', 'b', 'NEW', 'd']"
            ]
          },
          "metadata": {},
          "execution_count": 47
        }
      ],
      "source": [
        "my_list"
      ]
    },
    {
      "cell_type": "code",
      "execution_count": null,
      "metadata": {
        "id": "Je4t9P0atKOf"
      },
      "outputs": [],
      "source": [
        "nest = [1,2,3,[4,5,['target']]]"
      ]
    },
    {
      "cell_type": "code",
      "execution_count": null,
      "metadata": {
        "id": "X_VAGaqktKOg"
      },
      "outputs": [],
      "source": [
        "list_new=[2,4,6,8,10]"
      ]
    },
    {
      "cell_type": "code",
      "execution_count": null,
      "metadata": {
        "id": "RP79o5vetKOg",
        "colab": {
          "base_uri": "https://localhost:8080/"
        },
        "outputId": "78e4a5c8-e78f-4c2b-d8f4-78a7db8d2a51"
      },
      "outputs": [
        {
          "output_type": "execute_result",
          "data": {
            "text/plain": [
              "['new', 4, 6, 8, 10]"
            ]
          },
          "metadata": {},
          "execution_count": 50
        }
      ],
      "source": [
        "list_new[0]='new'\n",
        "list_new"
      ]
    },
    {
      "cell_type": "code",
      "execution_count": null,
      "metadata": {
        "id": "w5Dq1uR_tKOh",
        "colab": {
          "base_uri": "https://localhost:8080/"
        },
        "outputId": "76199a6b-e268-4c4f-994f-f4c19e46f13a"
      },
      "outputs": [
        {
          "output_type": "execute_result",
          "data": {
            "text/plain": [
              "['new', 4, 6, 'orange', 8, 10]"
            ]
          },
          "metadata": {},
          "execution_count": 51
        }
      ],
      "source": [
        "list_new.insert(3, \"orange\")\n",
        "list_new"
      ]
    },
    {
      "cell_type": "code",
      "execution_count": null,
      "metadata": {
        "id": "-yjTjGSDtKOh"
      },
      "outputs": [],
      "source": [
        "list_1=[1,2,3,4,5,6]"
      ]
    },
    {
      "cell_type": "code",
      "execution_count": null,
      "metadata": {
        "id": "jT8LxkoMtKOi"
      },
      "outputs": [],
      "source": [
        "string='dataroadmap'"
      ]
    },
    {
      "cell_type": "code",
      "execution_count": null,
      "metadata": {
        "id": "OnV74xl1tKOj",
        "colab": {
          "base_uri": "https://localhost:8080/"
        },
        "outputId": "eb2b5e0b-9660-429c-f617-6e7ec7f48d43"
      },
      "outputs": [
        {
          "output_type": "execute_result",
          "data": {
            "text/plain": [
              "[4, 5, ['target']]"
            ]
          },
          "metadata": {},
          "execution_count": 54
        }
      ],
      "source": [
        "nest[3]"
      ]
    },
    {
      "cell_type": "code",
      "execution_count": null,
      "metadata": {
        "id": "nIwFF49KtKOj",
        "colab": {
          "base_uri": "https://localhost:8080/"
        },
        "outputId": "f5566ee1-71e8-46b9-e67c-bc810a090689"
      },
      "outputs": [
        {
          "output_type": "execute_result",
          "data": {
            "text/plain": [
              "[1, 2, 3, [4, 5, ['target']]]"
            ]
          },
          "metadata": {},
          "execution_count": 55
        }
      ],
      "source": [
        "nest"
      ]
    },
    {
      "cell_type": "code",
      "execution_count": null,
      "metadata": {
        "id": "r0TJqpxxtKOk",
        "colab": {
          "base_uri": "https://localhost:8080/"
        },
        "outputId": "966edfb5-bc0e-4817-f5b5-9895f37607e2"
      },
      "outputs": [
        {
          "output_type": "execute_result",
          "data": {
            "text/plain": [
              "[4, 5, ['target']]"
            ]
          },
          "metadata": {},
          "execution_count": 56
        }
      ],
      "source": [
        "nest[3]"
      ]
    },
    {
      "cell_type": "code",
      "execution_count": null,
      "metadata": {
        "id": "khlglAbytKOk",
        "colab": {
          "base_uri": "https://localhost:8080/",
          "height": 36
        },
        "outputId": "dbbf4f6e-6156-449c-ad29-5af3cfa487cf"
      },
      "outputs": [
        {
          "output_type": "execute_result",
          "data": {
            "text/plain": [
              "'r'"
            ],
            "application/vnd.google.colaboratory.intrinsic+json": {
              "type": "string"
            }
          },
          "metadata": {},
          "execution_count": 57
        }
      ],
      "source": [
        "nest[3][2][0][2]"
      ]
    },
    {
      "cell_type": "markdown",
      "metadata": {
        "id": "1QckMIJ5tKOl"
      },
      "source": [
        "# !موفق باشید"
      ]
    }
  ],
  "metadata": {
    "kernelspec": {
      "display_name": "Python 3 (ipykernel)",
      "language": "python",
      "name": "python3"
    },
    "language_info": {
      "codemirror_mode": {
        "name": "ipython",
        "version": 3
      },
      "file_extension": ".py",
      "mimetype": "text/x-python",
      "name": "python",
      "nbconvert_exporter": "python",
      "pygments_lexer": "ipython3",
      "version": "3.8.3"
    },
    "colab": {
      "provenance": [],
      "include_colab_link": true
    }
  },
  "nbformat": 4,
  "nbformat_minor": 0
}